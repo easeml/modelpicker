{
 "cells": [
  {
   "cell_type": "code",
   "execution_count": 9,
   "metadata": {},
   "outputs": [],
   "source": [
    "import numpy as np\n",
    "from pathlib import Path\n",
    "from modelpicker import *"
   ]
  },
  {
   "cell_type": "markdown",
   "metadata": {},
   "source": [
    "## Load data"
   ]
  },
  {
   "cell_type": "markdown",
   "metadata": {},
   "source": [
    "Here we load the predictions matrix and labelset in the /data folder. They are both _numpy_ arrays and the labels are coded by integers. Map your labels to integers before you proceed.\n",
    "\n",
    "In the example we have below, we trained 80 classifiers on CIFAR-10 varying in model, architecture, and parameter settings available on [Pytorch Hub](https://pytorch.org/hub/). The data consists of 80 model predictions on 10,000 unlabeled data instances. "
   ]
  },
  {
   "cell_type": "code",
   "execution_count": 10,
   "metadata": {},
   "outputs": [],
   "source": [
    "# Model collections and label set\n",
    "\n",
    "datapath = Path(r'data/') # set path\n",
    "predictions = np.load(str(datapath) + \"/predictions.npy\") # load predictions\n",
    "labelset = np.load(str(datapath) + \"/labelset.npy\") # load label set "
   ]
  },
  {
   "cell_type": "markdown",
   "metadata": {},
   "source": [
    "## Model Picker"
   ]
  },
  {
   "cell_type": "markdown",
   "metadata": {},
   "source": [
    "The model picker algorithm takes the following inputs\n",
    "\n",
    "**INPUTS**\n",
    "\n",
    "- _predictions_ A numpy array of model predictions. This is a matrix of $N \\times k$ predictions where $N$ is the amount of unlabeled instances available at time $t$, and $k$ is the number of models. Each prediction is mapped to an integer.\n",
    "\n",
    "- _labelset_ A numpy array consisting of possible labels. These labels should be consisted with the mapping used for predictionn matrix.\n",
    "\n",
    "- _budget_ An integer that indicates number of labeling the user wants to do.\n",
    "\n",
    "At the output, the algorithm returns the following:\n",
    "\n",
    "**OUTPUTS**\n",
    "\n",
    "- _bestmodel_ ID of the winner model based on the requested labels\n",
    "\n",
    "- _beliefs_ An array of size $k$ that quantifies the posterior belief on each model being the best one. The posterior belief also hints the ranking of models. That is, the higher nominal value will indicate a higher belief on that model being the best."
   ]
  },
  {
   "cell_type": "code",
   "execution_count": 11,
   "metadata": {},
   "outputs": [],
   "source": [
    "## Set budget\n",
    "\n",
    "budget = 5"
   ]
  },
  {
   "cell_type": "code",
   "execution_count": null,
   "metadata": {},
   "outputs": [
    {
     "name": "stdout",
     "output_type": "stream",
     "text": [
      "Please enter the label for instance with ID 9073:\n",
      "4\n",
      "Please enter the label for instance with ID 5238:\n",
      "2\n",
      "Please enter the label for instance with ID 5575:\n",
      "3\n",
      "Please enter the label for instance with ID 9842:\n"
     ]
    }
   ],
   "source": [
    "## Run model picker\n",
    "\n",
    "(bestmodel, beliefs) = modelpicker(predictions, labelset, budget)\n",
    "\n",
    "## output the best model\n",
    "print(\"Best model ID: \" + str(bestmodel))\n",
    "\n",
    "# Note: for the sake of completeness, we added the ground truth labels for this dataset.\n",
    "# You can load it via np.load(str(datapath) + \"/oracle.npy\")\n",
    "# For your own dataset, labeling is left to the user. The labeling shows below is based on the ground truths."
   ]
  },
  {
   "cell_type": "code",
   "execution_count": null,
   "metadata": {},
   "outputs": [],
   "source": []
  }
 ],
 "metadata": {
  "kernelspec": {
   "display_name": "Python 3",
   "language": "python",
   "name": "python3"
  },
  "language_info": {
   "codemirror_mode": {
    "name": "ipython",
    "version": 3
   },
   "file_extension": ".py",
   "mimetype": "text/x-python",
   "name": "python",
   "nbconvert_exporter": "python",
   "pygments_lexer": "ipython3",
   "version": "3.7.2"
  }
 },
 "nbformat": 4,
 "nbformat_minor": 4
}
